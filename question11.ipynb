{
 "cells": [
  {
   "cell_type": "markdown",
   "id": "3537d51a-eaab-4b34-b53b-deb50df8d1cd",
   "metadata": {},
   "source": [
    "# Graeme Clarke\n",
    "Notebook for Assignment 7."
   ]
  },
  {
   "cell_type": "code",
   "execution_count": 1,
   "id": "18dcf221-b160-47ab-8dc5-f80d06633b7e",
   "metadata": {},
   "outputs": [
    {
     "name": "stdout",
     "output_type": "stream",
     "text": [
      "5.0\n"
     ]
    }
   ],
   "source": [
    "def compute_mean(values):\n",
    "    if not values:\n",
    "        return 0  # Return 0 if the list is empty to avoid division by zero\n",
    "    mean_value = sum(values) / len(values)\n",
    "    print(mean_value)\n",
    "\n",
    "# Call the function with the specified list\n",
    "compute_mean([2, 4, 6, 8])"
   ]
  },
  {
   "cell_type": "markdown",
   "id": "2e3b5ed5-e229-48fd-9cc5-f53c5f51b6d0",
   "metadata": {},
   "source": [
    "### Explanation of Code\n",
    "\n",
    "The code above defines a function called `compute_mean` that takes a list of values as input and calculates the mean (average) of those values. The function sums all the values in the list and then divides the sum by the number of values in the list. It prints the resulting mean.\n",
    "\n",
    "#### Equation of the Mean\n",
    "\n",
    "The mean of a list of values \\( x_1, x_2, \\ldots, x_n \\) can be expressed as:\n",
    "\n",
    "$$ \\text{Mean} = \\frac{1}{n} \\sum_{i=1}^{n} x_i $$\n",
    "\n",
    "Alternatively, it can also be written as:\n",
    "\n",
    "$$ \\mu = \\frac{\\sum_{i=1}^{n} x_i}{n} $$\n",
    "\n",
    "Where:\n",
    "- \\( \\mu \\) represents the mean\n",
    "- \\( x_i \\) are the values in the list\n",
    "- \\( n \\) is the number of values in the list"
   ]
  },
  {
   "cell_type": "markdown",
   "id": "3e5a9764-39f3-4bc3-87b1-0ef158ad55df",
   "metadata": {},
   "source": [
    "### Citation \n",
    "For the third cell above (Explanation of Code) I used help from Microsoft Copilot along with the reference documents in the assignment--especially for the LaTeX portion. I do not claim originality or ownership for the code, and am using it for demonstrative purposes only. "
   ]
  },
  {
   "cell_type": "code",
   "execution_count": null,
   "id": "91f06995-9ffd-425f-9739-03743a67d7a3",
   "metadata": {},
   "outputs": [],
   "source": []
  }
 ],
 "metadata": {
  "kernelspec": {
   "display_name": "Python 3 (ipykernel)",
   "language": "python",
   "name": "python3"
  },
  "language_info": {
   "codemirror_mode": {
    "name": "ipython",
    "version": 3
   },
   "file_extension": ".py",
   "mimetype": "text/x-python",
   "name": "python",
   "nbconvert_exporter": "python",
   "pygments_lexer": "ipython3",
   "version": "3.12.3"
  }
 },
 "nbformat": 4,
 "nbformat_minor": 5
}
